{
 "cells": [
  {
   "cell_type": "code",
   "execution_count": 5,
   "metadata": {},
   "outputs": [
    {
     "name": "stderr",
     "output_type": "stream",
     "text": [
      "usage: ipykernel_launcher.py [-h] --classifier-type {rf,erf}\n",
      "ipykernel_launcher.py: error: the following arguments are required: --classifier-type\n"
     ]
    },
    {
     "ename": "SystemExit",
     "evalue": "2",
     "output_type": "error",
     "traceback": [
      "An exception has occurred, use %tb to see the full traceback.\n",
      "\u001b[1;31mSystemExit\u001b[0m\u001b[1;31m:\u001b[0m 2\n"
     ]
    }
   ],
   "source": [
    "import argparse\n",
    "\n",
    "import numpy as np\n",
    "import matplotlib.pyplot as plt\n",
    "from sklearn.metrics import classification_report\n",
    "from sklearn import model_selection\n",
    "from sklearn.ensemble import RandomForestClassifier, ExtraTreesClassifier\n",
    "\n",
    "from utilities import visualize_classifier\n",
    "\n",
    "# Define an argument parser for Python so that we can take the classifier type as an input\n",
    "# parameter. Depending on this parameter, we can construct a Random Forest classifier or an\n",
    "# Extremely Random forest classifier:\n",
    "\n",
    "# Argument parser \n",
    "def build_arg_parser():\n",
    "    parser = argparse.ArgumentParser(description='Classify data using \\\n",
    "            Ensemble Learning techniques')\n",
    "    parser.add_argument('--classifier-type', dest='classifier_type', \n",
    "            required=True, choices=['rf', 'erf'], help=\"Type of classifier \\\n",
    "                    to use; can be either 'rf' or 'erf'\")\n",
    "    return parser\n",
    "\n",
    "if __name__=='__main__':\n",
    "    # Parse the input arguments\n",
    "    args = build_arg_parser().parse_args()\n",
    "    classifier_type = args.classifier_type\n",
    "    \n",
    "\n",
    "# Load input data\n",
    "input_file = 'data_random_forest.txt'\n",
    "data = np.loadtxt(input_file, delimiter=',')\n",
    "X, y = data[:, :-1], data[:, -1]\n",
    "\n",
    "# Separate input data into three classes based on labels\n",
    "class_0 = np.array(X[y==0])\n",
    "class_1 = np.array(X[y==1])\n",
    "class_2 = np.array(X[y==2])\n",
    "\n",
    "# Visualize input data\n",
    "plt.figure()\n",
    "plt.scatter(class_0[:, 0], class_0[:, 1], s=75, facecolors='white',edgecolors='black', linewidth=1, marker='s')\n",
    "plt.scatter(class_1[:, 0], class_1[:, 1], s=75, facecolors='white',edgecolors='black', linewidth=1, marker='o')\n",
    "plt.scatter(class_2[:, 0], class_2[:, 1], s=75, facecolors='white',edgecolors='black', linewidth=1, marker='^')\n",
    "plt.title('Input data')\n",
    "\n",
    "# Split data into training and testing datasets\n",
    "X_train, X_test, y_train, y_test = cross_validation.train_test_split(X, y, test_size=0.25, random_state=5)\n",
    "\n",
    "# Ensemble Learning classifier\n",
    "params = {'n_estimators': 100, 'max_depth': 4, 'random_state': 0}\n",
    "\n",
    "\n",
    "# Depending on the input parameter, we either construct a random forest classifier or an\n",
    "# extremely random forest classifier:\n",
    "if classifier_type == 'rf':\n",
    "    classifier = RandomForestClassifier(**params)\n",
    "else:\n",
    "    classifier = ExtraTreesClassifier(**params)\n",
    "    \n",
    "    \n",
    "# Train and visualize the classifier:\n",
    "classifier.fit(X_train, y_train)\n",
    "visualize_classifier(classifier, X_train, y_train, 'Training dataset')\n",
    "\n",
    "# Compute the output based on the test dataset and visualize it:\n",
    "y_test_pred = classifier.predict(X_test)\n",
    "visualize_classifier(classifier, X_test, y_test, 'Test dataset')\n",
    "\n",
    "\n",
    "# Evaluate classifier performance\n",
    "class_names = ['Class-0', 'Class-1', 'Class-2']\n",
    "print(\"\\n\" + \"#\"*40)\n",
    "print(\"\\nClassifier performance on training dataset\\n\")\n",
    "print(classification_report(y_train, classifier.predict(X_train),target_names=class_names))\n",
    "print(\"#\"*40 + \"\\n\")\n",
    "print(\"#\"*40)\n",
    "print(\"\\nClassifier performance on test dataset\\n\")\n",
    "print(classification_report(y_test, y_test_pred,target_names=class_names))\n",
    "print(\"#\"*40 + \"\\n\")\n",
    "\n",
    "\n",
    "# Compute confidence\n",
    "test_datapoints = np.array([[5, 5], [3, 6], [6, 4], [7, 2], [4, 4],[5, 2]])\n",
    "\n",
    "# The classifier object has an inbuilt method to compute the confidence measure. Let's classify\n",
    "# each point and compute the confidence values:\n",
    "print(\"\\nConfidence measure:\")\n",
    "for datapoint in test_datapoints:\n",
    "    probabilities = classifier.predict_proba([datapoint])[0]\n",
    "    predicted_class = 'Class-' + str(np.argmax(probabilities))\n",
    "    print('\\nDatapoint:', datapoint)\n",
    "    print('Predicted class:', predicted_class)\n",
    "    \n",
    "    \n",
    "# Visualize the test data points based on classifier boundaries:\n",
    "# Visualize the datapoints\n",
    "visualize_classifier(classifier, test_datapoints,[0]*len(test_datapoints),'Test datapoints')\n",
    "plt.show()"
   ]
  },
  {
   "cell_type": "code",
   "execution_count": null,
   "metadata": {},
   "outputs": [],
   "source": []
  },
  {
   "cell_type": "code",
   "execution_count": null,
   "metadata": {},
   "outputs": [],
   "source": []
  },
  {
   "cell_type": "code",
   "execution_count": null,
   "metadata": {},
   "outputs": [],
   "source": [
    "    "
   ]
  },
  {
   "cell_type": "code",
   "execution_count": null,
   "metadata": {},
   "outputs": [],
   "source": []
  },
  {
   "cell_type": "code",
   "execution_count": null,
   "metadata": {},
   "outputs": [],
   "source": []
  }
 ],
 "metadata": {
  "kernelspec": {
   "display_name": "Python 3",
   "language": "python",
   "name": "python3"
  },
  "language_info": {
   "codemirror_mode": {
    "name": "ipython",
    "version": 3
   },
   "file_extension": ".py",
   "mimetype": "text/x-python",
   "name": "python",
   "nbconvert_exporter": "python",
   "pygments_lexer": "ipython3",
   "version": "3.7.4"
  }
 },
 "nbformat": 4,
 "nbformat_minor": 4
}
